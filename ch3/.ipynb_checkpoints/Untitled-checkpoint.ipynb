{
 "cells": [
  {
   "cell_type": "code",
   "execution_count": 1,
   "metadata": {
    "collapsed": true
   },
   "outputs": [],
   "source": []
  },
  {
   "cell_type": "code",
   "execution_count": 38,
   "metadata": {
    "collapsed": true
   },
   "outputs": [],
   "source": [
    "def createDataSet():\n",
    "    dataSet = [[1, 1, 'yes'],\n",
    "               [1, 1, 'yes'],\n",
    "               [1, 0, 'no'],\n",
    "               [0, 1, 'no'],\n",
    "               [0, 1, 'no']]\n",
    "    labels = ['no surfacing','flippers']\n",
    "    #change to discrete values\n",
    "    return dataSet, labels\n",
    "import math\n",
    "\n",
    "def calcShannonEnt(dataSet):\n",
    "    numEntries = len(dataSet) #Data 的大小N,N行\n",
    "    labelCount = {}#字典存储 不同类别的个数\n",
    "    for featVec in dataSet :\n",
    "        currentLabel = featVec[-1] #每行的最后一个是类别\n",
    "        if currentLabel not in labelCount.keys():\n",
    "            labelCount[currentLabel] = 0\n",
    "        labelCount[currentLabel] += 1  #原书缩进错误！！！\n",
    "    shannonEnt = 0.0\n",
    "    for key in labelCount:\n",
    "        prob = float(labelCount[key])/numEntries\n",
    "        shannonEnt -= prob *math.log(prob,2) #熵最后外面有个求和符号 ！！！\n",
    "    return shannonEnt\n",
    "def splitDataSet(dataSet,axis,value):\n",
    "    retDataSet = []\n",
    "    for featVec in dataSet:\n",
    "        if featVec[axis] == value:\n",
    "            #去掉axis 这一列\n",
    "            reducedFeatVec = featVec[:axis] \n",
    "            reducedFeatVec.extend(featVec[axis+1: ])\n",
    "            retDataSet.append(reducedFeatVec)\n",
    "    return retDataSet  \n",
    "def chooseBestFeatureTopSplit(dataSet):\n",
    "    #列数 = len(dataset[0])\n",
    "    #行数 = len(dataset)\n",
    "    numFeatures = len(dataSet[0]) -1 #最后一列是标签  \n",
    "    baseEntropy = calcShannonEnt(dataSet) #所有数据的信息熵\n",
    "    bestInfoGainn = 0.0\n",
    "    bestFeature = -1\n",
    "    for i in range(numFeatures):#遍历不同的属性\n",
    "        featList = [example[i] for example in dataSet] #取出每一列\n",
    "        uniqueVals = set(featList)\n",
    "        newEntropy = 0.0\n",
    "        for value in uniqueVals:#在第i个属性里，遍历第i个属性所有不同的属性值\n",
    "            subDataSet = splitDataSet(dataSet,i,value) #划分数据 \n",
    "            prob = len(subDataSet)/float(len(dataSet))  #len([[]]) 行数\n",
    "            newEntropy += prob *calcShannonEnt(subDataSet)\n",
    "        infoGain = baseEntropy - newEntropy\n",
    "        if(infoGain > bestInfoGainn):\n",
    "            bestInfoGainn = infoGain\n",
    "            bestFeature = i\n",
    "    return bestFeature\n",
    "def majorityCnt(classList):\n",
    "    classCount ={}\n",
    "    for vote in classList:\n",
    "        if vote not in classCount.keys():\n",
    "            classCount[vote] = 0\n",
    "        classCount[vote] += 1\n",
    "  \n",
    "    classCount = sorted(classCount.items(),key=operator.itemgetter(1),reverse=True) #与python2 不同！！！！！！python3 的字典items 就是迭代对象\n",
    "    return classCount[0][0] #返回的是字典第一个元素的key 即 类别标签\n",
    "def createTree(dataSet,labels):\n",
    "    #mytree 是一个字典，key 是属性值，val 是类别或者是另一个字典，\n",
    "    #如果val 是类标签，则该子节点就是叶子节点\n",
    "    #如果val是另一个数据字典，则该节点是一个判断节点\n",
    "    classList = [example[-1] for example in dataSet]\n",
    "    if classList.count(classList[0]) == len(classList): #类别完全相同，停止划分\n",
    "        return classList[0]\n",
    "    if len(dataSet[0])==1: #完全划分\n",
    "        return majorityCnt(classList)\n",
    "    bestFeat = chooseBestFeatureTopSplit(dataSet)\n",
    "    bestFeatLabel = labels[bestFeat]\n",
    "    myTree = {bestFeatLabel:{}}\n",
    "    del(labels[bestFeat]) #\n",
    "    featValues = [example[bestFeat] for example in dataSet] # 某属性的所有取值\n",
    "    uniqueVals = set(featValues)\n",
    "    for value in uniqueVals :\n",
    "        subLabels = labels[:]\n",
    "        myTree[bestFeatLabel][value] = createTree(splitDataSet(dataSet,bestFeat,value),subLabels)\n",
    "    return myTree\n",
    "if __name__ == '__main__':\n",
    "    dataSet,labels = createDataSet()\n",
    "    tree = createTree(dataSet,labels)\n",
    "    "
   ]
  },
  {
   "cell_type": "code",
   "execution_count": 39,
   "metadata": {
    "collapsed": false
   },
   "outputs": [],
   "source": [
    "import matplotlib.pyplot as plt\n",
    "decisionNode = dict(boxstyle = \"sawtooth\",fc=\"0.8\")\n",
    "leafNode = dict(boxstyle = \"round4\",fc = \"0.8\")\n",
    "arrow_args=dict(arrowstyle=\"<-\")"
   ]
  },
  {
   "cell_type": "code",
   "execution_count": 50,
   "metadata": {
    "collapsed": false
   },
   "outputs": [],
   "source": [
    "def plotNode(nodeTxt, centerPt, parentPt, nodeType):\n",
    "    createPlot.ax1.annotate(nodeTxt, xy=parentPt,  xycoords='axes fraction',\n",
    "             xytext=centerPt, textcoords='axes fraction',\n",
    "             va=\"center\", ha=\"center\", bbox=nodeType, arrowprops=arrow_args )\n",
    "def createPlot():\n",
    "   fig = plt.figure(1, facecolor='white')\n",
    "   fig.clf()\n",
    "   createPlot.ax1 = plt.subplot(111, frameon=False) #ticks for demo puropses \n",
    "   plotNode('a decision node', (0.5, 0.1), (0.1, 0.5), decisionNode)\n",
    "   plotNode('a leaf node', (0.8, 0.1), (0.3, 0.8), leafNode)\n",
    "   plt.show()"
   ]
  },
  {
   "cell_type": "code",
   "execution_count": 53,
   "metadata": {
    "collapsed": false
   },
   "outputs": [],
   "source": [
    "def plotTree(myTree, parentPt, nodeTxt):\n",
    "    numLeafs = getNumLeafs(myTree)  #叶子节点个数\n",
    "    depth = getTreeDepth(myTree)  #树的高度\n",
    "    firstStr = list(myTree)[0] #！！！！！！！与py2不同\n",
    "    cntrPt = (plotTree.xOff + (1.0 + float(numLeafs))/2.0/plotTree.totalW, plotTree.yOff) #按照叶子结点个数划分x轴\n",
    "    plotMidText(cntrPt,parentPt,nodeTxt)\n",
    "    plotNode(firstStr,cntrPt,parentPt,decisionNode)\n",
    "    secondDict = myTree[firstStr]\n",
    "    plotTree.yOff = plotTree.yOff - 1.0/plotTree.totalD  #plotTree.yOff  全局变量\n",
    "    for key in secondDict.keys():\n",
    "        if type(secondDict[key]).__name__ =='dict':\n",
    "            plotTree(secondDict[key],cntrPt,str(key))# 第二节点是字典，递归调用plotTree\n",
    "        else:\n",
    "            plotTree.xOff = plotTree.xOff + 1.0/plotTree.totalW #x方向计算结点坐标\n",
    "            plotNode(secondDict[key], (plotTree.xOff, plotTree.yOff), cntrPt, leafNode)#绘制子节点\n",
    "            plotMidText((plotTree.xOff, plotTree.yOff), cntrPt, str(key))#添加文本信息\n",
    "    plotTree.yOff = plotTree.yOff + 1.0/plotTree.totalD #下次重新调用时恢复y\n",
    "def createPlot(inTree): #主函数\n",
    "    fig = plt.figure(1, facecolor='white')\n",
    "    fig.clf()\n",
    "    axprops = dict(xticks=[], yticks=[])\n",
    "    createPlot.ax1 = plt.subplot(111, frameon=False, **axprops)  # no ticks\n",
    "    # createPlot.ax1 = plt.subplot(111, frameon=False) #ticks for demo puropses\n",
    "    plotTree.totalW = float(getNumLeafs(inTree))\n",
    "    plotTree.totalD = float(getTreeDepth(inTree))\n",
    "    plotTree.xOff = -0.5 / plotTree.totalW\n",
    "    plotTree.yOff = 1.0\n",
    "    plotTree(inTree, (0.5, 1.0), '')\n",
    "    plt.show()"
   ]
  },
  {
   "cell_type": "code",
   "execution_count": 54,
   "metadata": {
    "collapsed": false
   },
   "outputs": [
    {
     "data": {
      "image/png": "[encoded data removed]",
      "text/plain": [
       "<matplotlib.figure.Figure at 0x8666828>"
      ]
     },
     "metadata": {},
     "output_type": "display_data"
    }
   ],
   "source": [
    "myTree = tree\n",
    "createPlot(myTree)"
   ]
  },
  {
   "cell_type": "code",
   "execution_count": 18,
   "metadata": {
    "collapsed": false
   },
   "outputs": [
    {
     "name": "stdout",
     "output_type": "stream",
     "text": [
      "0\n",
      "1\n"
     ]
    }
   ],
   "source": [
    "myTree = tree\n",
    "numLeafs = 0\n",
    "firstStr = list(myTree)[0]#找到第一个节点\n",
    "secondDict = myTree[firstStr] #第二个节点\n",
    "for key in secondDict.keys(): #第二节点的字典的key \n",
    "    if type(secondDict[key]).__name__=='dict':  #判断第二节点是否为字典\n",
    "        numLeafs += getNumLeafs(secondDict[key]) #第二节点是字典 ，递归调用getNum  \n",
    "    else numLeafs += 1 #第二节点不是字典，说明此节点是最后一个节点\n",
    "return numLeafs"
   ]
  },
  {
   "cell_type": "code",
   "execution_count": 48,
   "metadata": {
    "collapsed": false
   },
   "outputs": [],
   "source": [
    "def plotMidText(cntrPt, parentPt, txtString):\n",
    "    xMid = (parentPt[0]-cntrPt[0])/2.0 + cntrPt[0]\n",
    "    yMid = (parentPt[1]-cntrPt[1])/2.0 + cntrPt[1]\n",
    "    createPlot.ax1.text(xMid, yMid, txtString, va=\"center\", ha=\"center\", rotation=30)\n"
   ]
  },
  {
   "cell_type": "code",
   "execution_count": 1,
   "metadata": {
    "collapsed": false
   },
   "outputs": [
    {
     "name": "stdout",
     "output_type": "stream",
     "text": [
      "1\n"
     ]
    }
   ],
   "source": [
    "print(1)"
   ]
  },
  {
   "cell_type": "code",
   "execution_count": 33,
   "metadata": {
    "collapsed": false
   },
   "outputs": [],
   "source": [
    "#A=100\n",
    "def foo():\n",
    "    foo.A = 10\n",
    "    print(foo.A)\n",
    "def aa():\n",
    "#    return foo.A\n",
    "    print(foo.A)"
   ]
  },
  {
   "cell_type": "code",
   "execution_count": 35,
   "metadata": {
    "collapsed": false
   },
   "outputs": [
    {
     "name": "stdout",
     "output_type": "stream",
     "text": [
      "10\n"
     ]
    }
   ],
   "source": [
    "aa()"
   ]
  },
  {
   "cell_type": "code",
   "execution_count": 46,
   "metadata": {
    "collapsed": false
   },
   "outputs": [],
   "source": [
    "def getNumLeafs(myTree):\n",
    "    numLeafs = 0\n",
    "    firstStr = list(myTree)[0]#找到第一个节点\n",
    "    secondDict = myTree[firstStr] #第二个节点\n",
    "    for key in secondDict.keys(): #第二节点的字典的key \n",
    "        if type(secondDict[key]).__name__=='dict':  #判断第二节点是否为字典\n",
    "            numLeafs += getNumLeafs(secondDict[key]) #第二节点是字典 ，递归调用getNum  \n",
    "        else :numLeafs += 1 #第二节点不是字典，说明此节点是最后一个节点\n",
    "    return numLeafs"
   ]
  },
  {
   "cell_type": "code",
   "execution_count": 47,
   "metadata": {
    "collapsed": true
   },
   "outputs": [],
   "source": [
    "def getTreeDepth(myTree):\n",
    "    maxDepth = 0\n",
    "    firstStr = list(myTree)[0]#找到第一个节点\n",
    "    secondDict = myTree[firstStr] #第二个节点\n",
    "    for key in secondDict.keys(): #第二节点的字典的key \n",
    "        if type(secondDict[key]).__name__=='dict':  #判断第二节点是否为字典\n",
    "            thisDepth += getTreeDepth(secondDict[key]) #第二节点是字典 ，递归调用getNum  \n",
    "        else :thisDepth = 1 #第二节点不是字典，说明此节点是最后一个节点\n",
    "    if thisDepth > maxDepth: maxDepth =thisDepth\n",
    "    return maxDepth\n"
   ]
  },
  {
   "cell_type": "code",
   "execution_count": 42,
   "metadata": {
    "collapsed": false
   },
   "outputs": [
    {
     "data": {
      "image/png": "[encoded data removed]",
      "text/plain": [
       "<matplotlib.figure.Figure at 0x6782908>"
      ]
     },
     "metadata": {},
     "output_type": "display_data"
    }
   ],
   "source": [
    "import numpy as np  \n",
    "import matplotlib.pyplot as plt  \n",
    "  \n",
    "x = np.arange(-10, 11, 1)  \n",
    "y = x * x  \n",
    "  \n",
    "plt.plot(x, y)  \n",
    "  \n",
    "# 添加注释  \n",
    "# 第一个参数是注释的内容  \n",
    "# xy设置箭头尖的坐标  \n",
    "# xytext设置注释内容显示的起始位置  \n",
    "# arrowprops 用来设置箭头  \n",
    "# facecolor 设置箭头的颜色  \n",
    "# headlength 箭头的头的长度  \n",
    "# headwidth 箭头的宽度  \n",
    "# width 箭身的宽度  \n",
    "plt.annotate(\"This is a zhushi\", xy = (0, 1), xytext = (-4, 50),\n",
    "             arrowprops = dict(facecolor = \"r\", headlength = 10, headwidth = 30, width = 20))  \n",
    "# 可以通过设置xy和xytext中坐标的值来设置箭身是否倾斜  \n",
    "  \n",
    "plt.show()  "
   ]
  },
  {
   "cell_type": "code",
   "execution_count": 37,
   "metadata": {
    "collapsed": false
   },
   "outputs": [],
   "source": [
    "dataSet, labels = createDataSet()\n",
    "\n"
   ]
  },
  {
   "cell_type": "code",
   "execution_count": null,
   "metadata": {
    "collapsed": false
   },
   "outputs": [],
   "source": []
  },
  {
   "cell_type": "code",
   "execution_count": null,
   "metadata": {
    "collapsed": false
   },
   "outputs": [],
   "source": []
  },
  {
   "cell_type": "code",
   "execution_count": 38,
   "metadata": {
    "collapsed": false
   },
   "outputs": [
    {
     "data": {
      "text/plain": [
       "{'no surfacing': {0: 'no', 1: {'flippers': {0: 'no', 1: 'yes'}}}}"
      ]
     },
     "execution_count": 38,
     "metadata": {},
     "output_type": "execute_result"
    }
   ],
   "source": [
    "myTree"
   ]
  },
  {
   "cell_type": "code",
   "execution_count": null,
   "metadata": {
    "collapsed": false
   },
   "outputs": [],
   "source": []
  },
  {
   "cell_type": "code",
   "execution_count": null,
   "metadata": {
    "collapsed": false
   },
   "outputs": [],
   "source": []
  },
  {
   "cell_type": "code",
   "execution_count": 97,
   "metadata": {
    "collapsed": false
   },
   "outputs": [
    {
     "data": {
      "text/plain": [
       "2"
      ]
     },
     "execution_count": 97,
     "metadata": {},
     "output_type": "execute_result"
    }
   ],
   "source": [
    "classList = [example[-1] for example in dataSet]\n",
    "classList.count(classList[0])"
   ]
  },
  {
   "cell_type": "code",
   "execution_count": 96,
   "metadata": {
    "collapsed": false
   },
   "outputs": [
    {
     "data": {
      "text/plain": [
       "['yes', 'yes', 'no', 'no', 'no']"
      ]
     },
     "execution_count": 96,
     "metadata": {},
     "output_type": "execute_result"
    }
   ],
   "source": [
    "classList"
   ]
  },
  {
   "cell_type": "code",
   "execution_count": null,
   "metadata": {
    "collapsed": true
   },
   "outputs": [],
   "source": [
    "classCount = sorted(classCount.items())"
   ]
  },
  {
   "cell_type": "code",
   "execution_count": 60,
   "metadata": {
    "collapsed": false
   },
   "outputs": [
    {
     "data": {
      "text/plain": [
       "['a', 'b', 'b', 'a', 'b']"
      ]
     },
     "execution_count": 60,
     "metadata": {},
     "output_type": "execute_result"
    }
   ],
   "source": [
    "featList = [example[i] for example in dataSet]\n"
   ]
  },
  {
   "cell_type": "code",
   "execution_count": 42,
   "metadata": {
    "collapsed": false
   },
   "outputs": [
    {
     "data": {
      "text/plain": [
       "[['a', 'yes'], ['b', 'yes'], ['b', 'no']]"
      ]
     },
     "execution_count": 42,
     "metadata": {},
     "output_type": "execute_result"
    }
   ],
   "source": [
    "retDataSet"
   ]
  },
  {
   "cell_type": "code",
   "execution_count": 55,
   "metadata": {
    "collapsed": false
   },
   "outputs": [
    {
     "data": {
      "text/plain": [
       "2"
      ]
     },
     "execution_count": 55,
     "metadata": {},
     "output_type": "execute_result"
    }
   ],
   "source": [
    "a = [1,2,6]\n",
    "a.index(6)"
   ]
  },
  {
   "cell_type": "code",
   "execution_count": null,
   "metadata": {
    "collapsed": true
   },
   "outputs": [],
   "source": [
    "def classify(inputTree,featLabels,testVec):\n",
    "    firstStr = list(inputTree.keys())[0]\n",
    "    secondDict = inputTree[firstStr]\n",
    "    featIndex = featLabels.index(firstStr) #将标签转化成索引\n",
    "    for key in secondDict.keys():\n",
    "        if testVec[featIndex] == key:  \n",
    "            if type(secondDict[key]).__name__=='dict':\n",
    "                classLabel = classify(secondDict[key],featLabels,testVec)\n",
    "            else : classLabel = secondDict[key]#到达叶子节点，返回标签\n",
    "    return classLabel"
   ]
  },
  {
   "cell_type": "code",
   "execution_count": 56,
   "metadata": {
    "collapsed": true
   },
   "outputs": [],
   "source": [
    "def storeTree(inputTree,filename):\n",
    "    import pickle\n",
    "    with open(filename,'w') as f:\n",
    "        pickle.dump(inputTree,f)"
   ]
  },
  {
   "cell_type": "code",
   "execution_count": 57,
   "metadata": {
    "collapsed": true
   },
   "outputs": [],
   "source": [
    "def grabTree(filename):\n",
    "    import pickcle\n",
    "    with open(filename,'r') as f:\n",
    "        t = pickcle.load(f)\n",
    "    return t"
   ]
  },
  {
   "cell_type": "code",
   "execution_count": null,
   "metadata": {
    "collapsed": true
   },
   "outputs": [],
   "source": []
  }
 ],
 "metadata": {
  "anaconda-cloud": {},
  "kernelspec": {
   "display_name": "Python [conda root]",
   "language": "python",
   "name": "conda-root-py"
  },
  "language_info": {
   "codemirror_mode": {
    "name": "ipython",
    "version": 3
   },
   "file_extension": ".py",
   "mimetype": "text/x-python",
   "name": "python",
   "nbconvert_exporter": "python",
   "pygments_lexer": "ipython3",
   "version": "3.5.2"
  }
 },
 "nbformat": 4,
 "nbformat_minor": 1
}
